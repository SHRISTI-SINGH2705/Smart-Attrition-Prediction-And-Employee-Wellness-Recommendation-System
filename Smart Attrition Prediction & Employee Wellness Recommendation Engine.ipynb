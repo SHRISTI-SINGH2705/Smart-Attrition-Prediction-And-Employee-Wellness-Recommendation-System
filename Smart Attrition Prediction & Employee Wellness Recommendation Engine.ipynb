{
 "cells": [
  {
   "cell_type": "code",
   "execution_count": 1,
   "id": "7b2f44c7",
   "metadata": {},
   "outputs": [],
   "source": [
    "import pandas as pd\n",
    "import numpy as np\n",
    "from sklearn.model_selection import train_test_split\n",
    "import seaborn as sns\n",
    "import matplotlib.pyplot as plt\n",
    "\n",
    "# Data Collection\n",
    "def collect_data(file_path):\n",
    "    return pd.read_csv(file_path)\n",
    "\n",
    "# Data Cleaning\n",
    "def clean_data(df):\n",
    "    # Handle Missing Values\n",
    "    df = df.dropna(thresh=len(df) * 0.5, axis=1)  # Drop columns with >50% missing\n",
    "\n",
    "    # Impute numerical columns with mean\n",
    "    num_cols = df.select_dtypes(include=[np.number]).columns\n",
    "    df[num_cols] = df[num_cols].fillna(df[num_cols].mean())\n",
    "\n",
    "    # Impute categorical columns with mode\n",
    "    cat_cols = df.select_dtypes(include=['object']).columns\n",
    "    df[cat_cols] = df[cat_cols].fillna(df[cat_cols].mode().iloc[0])\n",
    "\n",
    "    df.drop_duplicates(inplace=True)\n",
    "\n",
    "    # Fix Inconsistencies\n",
    "    df['Job Title'] = df['Job Title'].replace({'Software Engineer': 'SWE'})\n",
    "\n",
    "    # Convert Joining Date to datetime\n",
    "    df['Joining Date'] = pd.to_datetime(df['Joining Date'], errors='coerce')\n",
    "\n",
    "    return df\n",
    "\n",
    "# Data Preprocessing\n",
    "def preprocess_data(df):\n",
    "    df['Tenure in Years'] = (pd.to_datetime('today') - df['Joining Date']).dt.days // 365\n",
    "    df = pd.get_dummies(df, columns=['Department'], drop_first=True)\n",
    "    return df\n",
    "\n",
    "# Descriptive Statistics\n",
    "def descriptive_statistics(df):\n",
    "    return df.describe()\n",
    "\n",
    "# Visualization\n",
    "def visualize_data(df):\n",
    "    plt.figure(figsize=(10, 6))\n",
    "    sns.countplot(x='Attrition', data=df)\n",
    "    plt.title('Attrition Count')\n",
    "    plt.show()\n",
    "\n",
    "# Sample Data Creation\n",
    "data = {\n",
    "    \"EmployeeID\": [1, 2, 3, 4, 5],\n",
    "    \"Name\": [\"John Doe\", \"Jane Smith\", \"Bob Johnson\", \"Alice Brown\", \"Charlie Davis\"],\n",
    "    \"Job Title\": [\"Software Engineer\", \"Data Analyst\", \"HR Manager\", \"Software Engineer\", \"Sales Executive\"],\n",
    "    \"Department\": [\"IT\", \"Marketing\", \"HR\", \"IT\", \"Sales\"],\n",
    "    \"Joining Date\": [\"2018-01-15\", \"2019-03-22\", \"2017-05-30\", \"2020-07-10\", \"2016-11-05\"],\n",
    "    \"Performance Score\": [4, 3, 5, 2, 3],\n",
    "    \"Salary\": [70000, 60000, 80000, 65000, 55000],\n",
    "    \"Attrition\": [\"No\", \"Yes\", \"No\", \"Yes\", \"No\"],\n",
    "    \"Survey Comments\": [\n",
    "        \"Great team, but workload is high.\",\n",
    "        \"I feel undervalued and overworked.\",\n",
    "        \"Supportive environment, good work-life balance.\",\n",
    "        \"Lack of growth opportunities.\",\n",
    "        \"Enjoyable work, but need better training.\"\n",
    "    ]\n",
    "}\n",
    "\n",
    "# Create and save DataFrame\n",
    "df = pd.DataFrame(data)\n",
    "df.to_csv('train.csv', index=False)\n",
    "\n",
    "# Use pipeline\n",
    "df = collect_data('train.csv')\n",
    "cleaned_df = clean_data(df)\n",
    "processed_df = preprocess_data(cleaned_df)"
   ]
  },
  {
   "cell_type": "code",
   "execution_count": 2,
   "id": "c0fc5675",
   "metadata": {},
   "outputs": [
    {
     "name": "stdout",
     "output_type": "stream",
     "text": [
      "       EmployeeID         Joining Date  Performance Score        Salary  \\\n",
      "count    5.000000                    5           5.000000      5.000000   \n",
      "mean     3.000000  2018-05-29 09:36:00           3.400000  66000.000000   \n",
      "min      1.000000  2016-11-05 00:00:00           2.000000  55000.000000   \n",
      "25%      2.000000  2017-05-30 00:00:00           3.000000  60000.000000   \n",
      "50%      3.000000  2018-01-15 00:00:00           3.000000  65000.000000   \n",
      "75%      4.000000  2019-03-22 00:00:00           4.000000  70000.000000   \n",
      "max      5.000000  2020-07-10 00:00:00           5.000000  80000.000000   \n",
      "std      1.581139                  NaN           1.140175   9617.692031   \n",
      "\n",
      "       Tenure in Years  \n",
      "count         5.000000  \n",
      "mean          6.400000  \n",
      "min           4.000000  \n",
      "25%           6.000000  \n",
      "50%           7.000000  \n",
      "75%           7.000000  \n",
      "max           8.000000  \n",
      "std           1.516575  \n"
     ]
    },
    {
     "data": {
      "image/png": "[encoded data removed]",
      "text/plain": [
       "<Figure size 1000x600 with 1 Axes>"
      ]
     },
     "metadata": {},
     "output_type": "display_data"
    }
   ],
   "source": [
    "import pandas as pd\n",
    "import seaborn as sns\n",
    "import matplotlib.pyplot as plt\n",
    "\n",
    "# Step 1: Define or load the data\n",
    "data = {\n",
    "    \"EmployeeID\": [1, 2, 3, 4, 5],\n",
    "    \"Name\": [\"John Doe\", \"Jane Smith\", \"Bob Johnson\", \"Alice Brown\", \"Charlie Davis\"],\n",
    "    \"Job Title\": [\"Software Engineer\", \"Data Analyst\", \"HR Manager\", \"Software Engineer\", \"Sales Executive\"],\n",
    "    \"Department\": [\"IT\", \"Marketing\", \"HR\", \"IT\", \"Sales\"],\n",
    "    \"Joining Date\": [\"2018-01-15\", \"2019-03-22\", \"2017-05-30\", \"2020-07-10\", \"2016-11-05\"],\n",
    "    \"Performance Score\": [4, 3, 5, 2, 3],\n",
    "    \"Salary\": [70000, 60000, 80000, 65000, 55000],\n",
    "    \"Attrition\": [\"No\", \"Yes\", \"No\", \"Yes\", \"No\"],\n",
    "    \"Survey Comments\": [\n",
    "        \"Great team, but workload is high.\",\n",
    "        \"I feel undervalued and overworked.\",\n",
    "        \"Supportive environment, good work-life balance.\",\n",
    "        \"Lack of growth opportunities.\",\n",
    "        \"Enjoyable work, but need better training.\"\n",
    "    ]\n",
    "}\n",
    "\n",
    "df = pd.DataFrame(data)  # ✅ Now df is defined!\n",
    "\n",
    "# Step 2: Cleaning function\n",
    "def clean_data(df):\n",
    "    df = df.dropna()\n",
    "    df['Joining Date'] = pd.to_datetime(df['Joining Date'], errors='coerce')\n",
    "    return df\n",
    "\n",
    "# Step 3: Preprocessing function\n",
    "def preprocess_data(df):\n",
    "    df['Tenure in Years'] = (pd.to_datetime('today') - df['Joining Date']).dt.days // 365\n",
    "    df = pd.get_dummies(df, columns=['Department'], drop_first=True)\n",
    "    return df\n",
    "\n",
    "# Step 4: Descriptive stats function\n",
    "def descriptive_statistics(df):\n",
    "    return df.describe()\n",
    "\n",
    "# Step 5: Visualization function\n",
    "def visualize_data(df):\n",
    "    plt.figure(figsize=(10, 6))\n",
    "    sns.countplot(x='Attrition', data=df)\n",
    "    plt.title('Attrition Count')\n",
    "    plt.show()\n",
    "\n",
    "# Step 6: Run the pipeline\n",
    "cleaned_data = clean_data(df)\n",
    "processed_data = preprocess_data(cleaned_data)\n",
    "stats = descriptive_statistics(processed_data)\n",
    "\n",
    "print(stats)  # Optional: to view stats in output\n",
    "visualize_data(processed_data)\n"
   ]
  },
  {
   "cell_type": "code",
   "execution_count": 3,
   "id": "df22ce55",
   "metadata": {},
   "outputs": [
    {
     "name": "stdout",
     "output_type": "stream",
     "text": [
      "              precision    recall  f1-score   support\n",
      "\n",
      "           0       0.00      0.00      0.00       0.0\n",
      "           1       0.00      0.00      0.00       1.0\n",
      "\n",
      "    accuracy                           0.00       1.0\n",
      "   macro avg       0.00      0.00      0.00       1.0\n",
      "weighted avg       0.00      0.00      0.00       1.0\n",
      "\n"
     ]
    },
    {
     "name": "stderr",
     "output_type": "stream",
     "text": [
      "C:\\Users\\singh\\AppData\\Roaming\\Python\\Python310\\site-packages\\sklearn\\metrics\\_classification.py:1565: UndefinedMetricWarning: Precision is ill-defined and being set to 0.0 in labels with no predicted samples. Use `zero_division` parameter to control this behavior.\n",
      "  _warn_prf(average, modifier, f\"{metric.capitalize()} is\", len(result))\n",
      "C:\\Users\\singh\\AppData\\Roaming\\Python\\Python310\\site-packages\\sklearn\\metrics\\_classification.py:1565: UndefinedMetricWarning: Recall is ill-defined and being set to 0.0 in labels with no true samples. Use `zero_division` parameter to control this behavior.\n",
      "  _warn_prf(average, modifier, f\"{metric.capitalize()} is\", len(result))\n",
      "C:\\Users\\singh\\AppData\\Roaming\\Python\\Python310\\site-packages\\sklearn\\metrics\\_classification.py:1565: UndefinedMetricWarning: Precision is ill-defined and being set to 0.0 in labels with no predicted samples. Use `zero_division` parameter to control this behavior.\n",
      "  _warn_prf(average, modifier, f\"{metric.capitalize()} is\", len(result))\n",
      "C:\\Users\\singh\\AppData\\Roaming\\Python\\Python310\\site-packages\\sklearn\\metrics\\_classification.py:1565: UndefinedMetricWarning: Recall is ill-defined and being set to 0.0 in labels with no true samples. Use `zero_division` parameter to control this behavior.\n",
      "  _warn_prf(average, modifier, f\"{metric.capitalize()} is\", len(result))\n",
      "C:\\Users\\singh\\AppData\\Roaming\\Python\\Python310\\site-packages\\sklearn\\metrics\\_classification.py:1565: UndefinedMetricWarning: Precision is ill-defined and being set to 0.0 in labels with no predicted samples. Use `zero_division` parameter to control this behavior.\n",
      "  _warn_prf(average, modifier, f\"{metric.capitalize()} is\", len(result))\n",
      "C:\\Users\\singh\\AppData\\Roaming\\Python\\Python310\\site-packages\\sklearn\\metrics\\_classification.py:1565: UndefinedMetricWarning: Recall is ill-defined and being set to 0.0 in labels with no true samples. Use `zero_division` parameter to control this behavior.\n",
      "  _warn_prf(average, modifier, f\"{metric.capitalize()} is\", len(result))\n"
     ]
    }
   ],
   "source": [
    "from sklearn.model_selection import train_test_split\n",
    "from sklearn.ensemble import RandomForestClassifier\n",
    "from sklearn.metrics import classification_report\n",
    "\n",
    "def train_model(df):\n",
    "    # Ensure all features are numeric\n",
    "    df = df.copy()\n",
    "    df['Attrition'] = df['Attrition'].map({'Yes': 1, 'No': 0})  # Convert target to numeric\n",
    "    X = df.drop(['Attrition', 'Name', 'Job Title', 'Survey Comments', 'Joining Date'], axis=1)  # Drop non-numeric columns\n",
    "    y = df['Attrition']\n",
    "    \n",
    "    X_train, X_test, y_train, y_test = train_test_split(X, y, test_size=0.2, random_state=42)\n",
    "    \n",
    "    model = RandomForestClassifier()\n",
    "    model.fit(X_train, y_train)\n",
    "    \n",
    "    predictions = model.predict(X_test)\n",
    "    print(classification_report(y_test, predictions))\n",
    "\n",
    "# Example usage\n",
    "train_model(processed_data)"
   ]
  },
  {
   "cell_type": "code",
   "execution_count": 4,
   "id": "7dc3cbad",
   "metadata": {},
   "outputs": [
    {
     "name": "stdout",
     "output_type": "stream",
     "text": [
      "Thriving\n"
     ]
    },
    {
     "name": "stderr",
     "output_type": "stream",
     "text": [
      "[nltk_data] Downloading package vader_lexicon to\n",
      "[nltk_data]     C:\\Users\\singh\\AppData\\Roaming\\nltk_data...\n",
      "[nltk_data]   Package vader_lexicon is already up-to-date!\n"
     ]
    }
   ],
   "source": [
    "import nltk\n",
    "from nltk.sentiment import SentimentIntensityAnalyzer\n",
    "\n",
    "def analyze_sentiment(text):\n",
    "    nltk.download('vader_lexicon')\n",
    "    sia = SentimentIntensityAnalyzer()\n",
    "    return sia.polarity_scores(text)\n",
    "\n",
    "def classify_wellness(sentiment_score):\n",
    "    if sentiment_score['compound'] >= 0.05:\n",
    "        return 'Thriving'\n",
    "    elif sentiment_score['compound'] <= -0.05:\n",
    "        return 'At Risk'\n",
    "    else:\n",
    "        return 'Stable'\n",
    "\n",
    "# Example usage\n",
    "text = \"I love my job but the workload is overwhelming.\"\n",
    "sentiment_score = analyze_sentiment(text)\n",
    "wellness_category = classify_wellness(sentiment_score)\n",
    "print(wellness_category)\n"
   ]
  },
  {
   "cell_type": "code",
   "execution_count": 5,
   "id": "028da3f1",
   "metadata": {},
   "outputs": [
    {
     "name": "stdout",
     "output_type": "stream",
     "text": [
      "['Mentorship program', 'Skill development training']\n"
     ]
    }
   ],
   "source": [
    "def get_recommendation(attrition_risk, wellness_category):\n",
    "    if attrition_risk > 0.7 and wellness_category == \"At Risk\":\n",
    "        return [\"Immediate manager review\", \"Wellness program\"]\n",
    "    elif attrition_risk > 0.5:\n",
    "        return [\"Mentorship program\", \"Skill development training\"]\n",
    "    else:\n",
    "        return [\"Retention bonus consideration\"]\n",
    "\n",
    "# Example usage\n",
    "recommendation = get_recommendation(0.8, wellness_category)\n",
    "print(recommendation)\n"
   ]
  },
  {
   "cell_type": "code",
   "execution_count": 6,
   "id": "138599f8",
   "metadata": {},
   "outputs": [
    {
     "data": {
      "image/png": "[encoded data removed]",
      "text/plain": [
       "<Figure size 1000x600 with 1 Axes>"
      ]
     },
     "metadata": {},
     "output_type": "display_data"
    },
    {
     "name": "stdout",
     "output_type": "stream",
     "text": [
      "              precision    recall  f1-score   support\n",
      "\n",
      "           0       0.00      0.00      0.00       0.0\n",
      "           1       0.00      0.00      0.00       1.0\n",
      "\n",
      "    accuracy                           0.00       1.0\n",
      "   macro avg       0.00      0.00      0.00       1.0\n",
      "weighted avg       0.00      0.00      0.00       1.0\n",
      "\n",
      "['Mentorship program', 'Skill development training']\n"
     ]
    },
    {
     "name": "stderr",
     "output_type": "stream",
     "text": [
      "C:\\Users\\singh\\AppData\\Roaming\\Python\\Python310\\site-packages\\sklearn\\metrics\\_classification.py:1565: UndefinedMetricWarning: Precision is ill-defined and being set to 0.0 in labels with no predicted samples. Use `zero_division` parameter to control this behavior.\n",
      "  _warn_prf(average, modifier, f\"{metric.capitalize()} is\", len(result))\n",
      "C:\\Users\\singh\\AppData\\Roaming\\Python\\Python310\\site-packages\\sklearn\\metrics\\_classification.py:1565: UndefinedMetricWarning: Recall is ill-defined and being set to 0.0 in labels with no true samples. Use `zero_division` parameter to control this behavior.\n",
      "  _warn_prf(average, modifier, f\"{metric.capitalize()} is\", len(result))\n",
      "C:\\Users\\singh\\AppData\\Roaming\\Python\\Python310\\site-packages\\sklearn\\metrics\\_classification.py:1565: UndefinedMetricWarning: Precision is ill-defined and being set to 0.0 in labels with no predicted samples. Use `zero_division` parameter to control this behavior.\n",
      "  _warn_prf(average, modifier, f\"{metric.capitalize()} is\", len(result))\n",
      "C:\\Users\\singh\\AppData\\Roaming\\Python\\Python310\\site-packages\\sklearn\\metrics\\_classification.py:1565: UndefinedMetricWarning: Recall is ill-defined and being set to 0.0 in labels with no true samples. Use `zero_division` parameter to control this behavior.\n",
      "  _warn_prf(average, modifier, f\"{metric.capitalize()} is\", len(result))\n",
      "C:\\Users\\singh\\AppData\\Roaming\\Python\\Python310\\site-packages\\sklearn\\metrics\\_classification.py:1565: UndefinedMetricWarning: Precision is ill-defined and being set to 0.0 in labels with no predicted samples. Use `zero_division` parameter to control this behavior.\n",
      "  _warn_prf(average, modifier, f\"{metric.capitalize()} is\", len(result))\n",
      "C:\\Users\\singh\\AppData\\Roaming\\Python\\Python310\\site-packages\\sklearn\\metrics\\_classification.py:1565: UndefinedMetricWarning: Recall is ill-defined and being set to 0.0 in labels with no true samples. Use `zero_division` parameter to control this behavior.\n",
      "  _warn_prf(average, modifier, f\"{metric.capitalize()} is\", len(result))\n",
      "[nltk_data] Downloading package vader_lexicon to\n",
      "[nltk_data]     C:\\Users\\singh\\AppData\\Roaming\\nltk_data...\n",
      "[nltk_data]   Package vader_lexicon is already up-to-date!\n"
     ]
    }
   ],
   "source": [
    "if __name__ == \"__main__\":\n",
    "    # Load and preprocess data\n",
    "    data = collect_data('train.csv')\n",
    "    cleaned_data = clean_data(data)\n",
    "    processed_data = preprocess_data(cleaned_data)\n",
    "\n",
    "    # Perform EDA\n",
    "    stats = descriptive_statistics(processed_data)\n",
    "    visualize_data(processed_data)\n",
    "\n",
    "    # Train prediction model\n",
    "    train_model(processed_data)\n",
    "\n",
    "    # Analyze sentiment\n",
    "    text = \"I feel undervalued at work.\"\n",
    "    sentiment_score = analyze_sentiment(text)\n",
    "    wellness_category = classify_wellness(sentiment_score)\n",
    "\n",
    "    # Get recommendations\n",
    "    recommendation = get_recommendation(0.8, wellness_category)\n",
    "    print(recommendation)\n"
   ]
  }
 ],
 "metadata": {
  "kernelspec": {
   "display_name": "Python 3",
   "language": "python",
   "name": "python3"
  },
  "language_info": {
   "codemirror_mode": {
    "name": "ipython",
    "version": 3
   },
   "file_extension": ".py",
   "mimetype": "text/x-python",
   "name": "python",
   "nbconvert_exporter": "python",
   "pygments_lexer": "ipython3",
   "version": "3.10.0"
  }
 },
 "nbformat": 4,
 "nbformat_minor": 5
}
